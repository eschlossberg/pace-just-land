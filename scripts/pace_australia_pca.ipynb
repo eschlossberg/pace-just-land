{
 "cells": [
  {
   "cell_type": "code",
   "execution_count": 1,
   "id": "bf4da187-3dfe-4041-8a8a-b4b4c9797cbe",
   "metadata": {
    "scrolled": true
   },
   "outputs": [
    {
     "name": "stdout",
     "output_type": "stream",
     "text": [
      "Requirement already satisfied: dask-ml in /srv/conda/envs/notebook/lib/python3.11/site-packages (2025.1.0)\n",
      "Requirement already satisfied: dask-glm>=0.2.0 in /srv/conda/envs/notebook/lib/python3.11/site-packages (from dask-ml) (0.3.2)\n",
      "Requirement already satisfied: dask>=2025.1.0 in /srv/conda/envs/notebook/lib/python3.11/site-packages (from dask[array,dataframe]>=2025.1.0->dask-ml) (2025.7.0)\n",
      "Requirement already satisfied: distributed>=2025.1.0 in /srv/conda/envs/notebook/lib/python3.11/site-packages (from dask-ml) (2025.7.0)\n",
      "Requirement already satisfied: multipledispatch>=0.4.9 in /srv/conda/envs/notebook/lib/python3.11/site-packages (from dask-ml) (1.0.0)\n",
      "Requirement already satisfied: numba>=0.51.0 in /srv/conda/envs/notebook/lib/python3.11/site-packages (from dask-ml) (0.61.2)\n",
      "Requirement already satisfied: numpy>=1.24.0 in /srv/conda/envs/notebook/lib/python3.11/site-packages (from dask-ml) (2.2.6)\n",
      "Requirement already satisfied: packaging in /srv/conda/envs/notebook/lib/python3.11/site-packages (from dask-ml) (24.2)\n",
      "Requirement already satisfied: pandas>=2.0 in /srv/conda/envs/notebook/lib/python3.11/site-packages (from dask-ml) (2.3.1)\n",
      "Requirement already satisfied: scikit-learn>=1.6.1 in /srv/conda/envs/notebook/lib/python3.11/site-packages (from dask-ml) (1.6.1)\n",
      "Requirement already satisfied: scipy in /srv/conda/envs/notebook/lib/python3.11/site-packages (from dask-ml) (1.15.3)\n",
      "Requirement already satisfied: click>=8.1 in /srv/conda/envs/notebook/lib/python3.11/site-packages (from dask>=2025.1.0->dask[array,dataframe]>=2025.1.0->dask-ml) (8.2.1)\n",
      "Requirement already satisfied: cloudpickle>=3.0.0 in /srv/conda/envs/notebook/lib/python3.11/site-packages (from dask>=2025.1.0->dask[array,dataframe]>=2025.1.0->dask-ml) (3.1.1)\n",
      "Requirement already satisfied: fsspec>=2021.09.0 in /srv/conda/envs/notebook/lib/python3.11/site-packages (from dask>=2025.1.0->dask[array,dataframe]>=2025.1.0->dask-ml) (2025.7.0)\n",
      "Requirement already satisfied: partd>=1.4.0 in /srv/conda/envs/notebook/lib/python3.11/site-packages (from dask>=2025.1.0->dask[array,dataframe]>=2025.1.0->dask-ml) (1.4.2)\n",
      "Requirement already satisfied: pyyaml>=5.3.1 in /srv/conda/envs/notebook/lib/python3.11/site-packages (from dask>=2025.1.0->dask[array,dataframe]>=2025.1.0->dask-ml) (6.0.2)\n",
      "Requirement already satisfied: toolz>=0.10.0 in /srv/conda/envs/notebook/lib/python3.11/site-packages (from dask>=2025.1.0->dask[array,dataframe]>=2025.1.0->dask-ml) (1.0.0)\n",
      "Requirement already satisfied: importlib_metadata>=4.13.0 in /srv/conda/envs/notebook/lib/python3.11/site-packages (from dask>=2025.1.0->dask[array,dataframe]>=2025.1.0->dask-ml) (8.6.1)\n",
      "Requirement already satisfied: sparse>=0.7.0 in /srv/conda/envs/notebook/lib/python3.11/site-packages (from dask-glm>=0.2.0->dask-ml) (0.17.0)\n",
      "Requirement already satisfied: pyarrow>=14.0.1 in /srv/conda/envs/notebook/lib/python3.11/site-packages (from dask[array,dataframe]>=2025.1.0->dask-ml) (21.0.0)\n",
      "Requirement already satisfied: jinja2>=2.10.3 in /srv/conda/envs/notebook/lib/python3.11/site-packages (from distributed>=2025.1.0->dask-ml) (3.1.5)\n",
      "Requirement already satisfied: locket>=1.0.0 in /srv/conda/envs/notebook/lib/python3.11/site-packages (from distributed>=2025.1.0->dask-ml) (1.0.0)\n",
      "Requirement already satisfied: msgpack>=1.0.2 in /srv/conda/envs/notebook/lib/python3.11/site-packages (from distributed>=2025.1.0->dask-ml) (1.1.1)\n",
      "Requirement already satisfied: psutil>=5.8.0 in /srv/conda/envs/notebook/lib/python3.11/site-packages (from distributed>=2025.1.0->dask-ml) (5.9.8)\n",
      "Requirement already satisfied: sortedcontainers>=2.0.5 in /srv/conda/envs/notebook/lib/python3.11/site-packages (from distributed>=2025.1.0->dask-ml) (2.4.0)\n",
      "Requirement already satisfied: tblib>=1.6.0 in /srv/conda/envs/notebook/lib/python3.11/site-packages (from distributed>=2025.1.0->dask-ml) (3.1.0)\n",
      "Requirement already satisfied: tornado>=6.2.0 in /srv/conda/envs/notebook/lib/python3.11/site-packages (from distributed>=2025.1.0->dask-ml) (6.4.2)\n",
      "Requirement already satisfied: urllib3>=1.26.5 in /srv/conda/envs/notebook/lib/python3.11/site-packages (from distributed>=2025.1.0->dask-ml) (2.3.0)\n",
      "Requirement already satisfied: zict>=3.0.0 in /srv/conda/envs/notebook/lib/python3.11/site-packages (from distributed>=2025.1.0->dask-ml) (3.0.0)\n",
      "Requirement already satisfied: llvmlite<0.45,>=0.44.0dev0 in /srv/conda/envs/notebook/lib/python3.11/site-packages (from numba>=0.51.0->dask-ml) (0.44.0)\n",
      "Requirement already satisfied: python-dateutil>=2.8.2 in /srv/conda/envs/notebook/lib/python3.11/site-packages (from pandas>=2.0->dask-ml) (2.9.0.post0)\n",
      "Requirement already satisfied: pytz>=2020.1 in /srv/conda/envs/notebook/lib/python3.11/site-packages (from pandas>=2.0->dask-ml) (2025.1)\n",
      "Requirement already satisfied: tzdata>=2022.7 in /srv/conda/envs/notebook/lib/python3.11/site-packages (from pandas>=2.0->dask-ml) (2025.2)\n",
      "Requirement already satisfied: joblib>=1.2.0 in /srv/conda/envs/notebook/lib/python3.11/site-packages (from scikit-learn>=1.6.1->dask-ml) (1.5.0)\n",
      "Requirement already satisfied: threadpoolctl>=3.1.0 in /srv/conda/envs/notebook/lib/python3.11/site-packages (from scikit-learn>=1.6.1->dask-ml) (3.6.0)\n",
      "Requirement already satisfied: zipp>=3.20 in /srv/conda/envs/notebook/lib/python3.11/site-packages (from importlib_metadata>=4.13.0->dask>=2025.1.0->dask[array,dataframe]>=2025.1.0->dask-ml) (3.21.0)\n",
      "Requirement already satisfied: MarkupSafe>=2.0 in /srv/conda/envs/notebook/lib/python3.11/site-packages (from jinja2>=2.10.3->distributed>=2025.1.0->dask-ml) (3.0.2)\n",
      "Requirement already satisfied: six>=1.5 in /srv/conda/envs/notebook/lib/python3.11/site-packages (from python-dateutil>=2.8.2->pandas>=2.0->dask-ml) (1.17.0)\n"
     ]
    }
   ],
   "source": [
    "!pip install dask-ml"
   ]
  },
  {
   "cell_type": "code",
   "execution_count": 2,
   "id": "8985dda6-c76f-4dab-9a59-6bc11c009ea2",
   "metadata": {},
   "outputs": [],
   "source": [
    "import cartopy.crs as ccrs\n",
    "import cartopy.feature as cfeature\n",
    "import earthaccess\n",
    "import h5netcdf\n",
    "import matplotlib.pyplot as plt\n",
    "import numpy as np\n",
    "import pandas as pd\n",
    "import pyinterp.backends.xarray  # Module that handles the filling of undefined values.\n",
    "import pyinterp.fill\n",
    "import seaborn as sns\n",
    "import xarray as xr\n",
    "import rioxarray as rxr\n",
    "from matplotlib.patches import Rectangle\n",
    "import logging\n",
    "import xarray as xr\n",
    "import dask.array as da\n",
    "from dask_ml.decomposition import PCA\n",
    "from dask_ml.cluster import KMeans\n",
    "from dask.diagnostics import ProgressBar\n",
    "from dask.distributed import Client\n",
    "from dask_ml.decomposition import PCA"
   ]
  },
  {
   "cell_type": "code",
   "execution_count": 3,
   "id": "c229c3bd-2cbd-4b21-a9d6-702e9f54d868",
   "metadata": {},
   "outputs": [
    {
     "name": "stderr",
     "output_type": "stream",
     "text": [
      "2025-08-06 21:37:43,465 - INFO - You're now authenticated with NASA Earthdata Login\n",
      "/srv/conda/envs/notebook/lib/python3.11/site-packages/distributed/node.py:187: UserWarning: Port 8787 is already in use.\n",
      "Perhaps you already have a cluster running?\n",
      "Hosting the HTTP server on port 35527 instead\n",
      "  warnings.warn(\n"
     ]
    }
   ],
   "source": [
    "logging.basicConfig(level=logging.INFO, format='%(asctime)s - %(levelname)s - %(message)s')\n",
    "log = logging.getLogger()\n",
    "\n",
    "auth = earthaccess.login()\n",
    "client = Client()"
   ]
  },
  {
   "cell_type": "code",
   "execution_count": 4,
   "id": "d205a1c7-d66d-4739-9906-a6a4d9433a40",
   "metadata": {},
   "outputs": [
    {
     "name": "stderr",
     "output_type": "stream",
     "text": [
      "2025-08-06 21:37:51,208 - INFO - Granules found: 12\n",
      "2025-08-06 21:38:02,263 - INFO - Opening 12 granules, approx size: 18.4 GB\n",
      "2025-08-06 21:38:02,264 - INFO - using endpoint: https://obdaac-tea.earthdatacloud.nasa.gov/s3credentials\n"
     ]
    },
    {
     "data": {
      "application/vnd.jupyter.widget-view+json": {
       "model_id": "a30d20cd5eb64baab94147cc70886e79",
       "version_major": 2,
       "version_minor": 0
      },
      "text/plain": [
       "QUEUEING TASKS | :   0%|          | 0/12 [00:00<?, ?it/s]"
      ]
     },
     "metadata": {},
     "output_type": "display_data"
    },
    {
     "data": {
      "application/vnd.jupyter.widget-view+json": {
       "model_id": "547234c9f7764dfe98f91bddbe656d51",
       "version_major": 2,
       "version_minor": 0
      },
      "text/plain": [
       "PROCESSING TASKS | :   0%|          | 0/12 [00:00<?, ?it/s]"
      ]
     },
     "metadata": {},
     "output_type": "display_data"
    },
    {
     "data": {
      "application/vnd.jupyter.widget-view+json": {
       "model_id": "41abf61baaaf406fb24b04e167ebaca8",
       "version_major": 2,
       "version_minor": 0
      },
      "text/plain": [
       "COLLECTING RESULTS | :   0%|          | 0/12 [00:00<?, ?it/s]"
      ]
     },
     "metadata": {},
     "output_type": "display_data"
    }
   ],
   "source": [
    "tspan = (\"2024-05-01\", \"2025-05-01\")\n",
    "bbox = (113.338953078, -43.6345972634, 153.569469029, -10.6681857235)\n",
    "res_rf = earthaccess.search_data(\n",
    "    short_name=\"PACE_OCI_L3M_SFREFL\",\n",
    "    temporal=tspan,\n",
    "    granule_name='*.MO.*0p1deg*',\n",
    "    bounding_box=bbox\n",
    ")\n",
    "path_rf = earthaccess.open(res_rf)\n",
    "ds_rf = xr.open_mfdataset(path_rf, combine=\"nested\", concat_dim=\"date\")\n",
    "\n",
    "\n",
    "# Cut out AOI\n",
    "min_lon, max_lat, max_lon, min_lat = bbox\n",
    "ds_rf = ds_rf.sel(lat=slice(min_lat, max_lat), lon=slice(min_lon, max_lon))"
   ]
  },
  {
   "cell_type": "code",
   "execution_count": 5,
   "id": "28a06c49-6e8a-41ca-af9d-a397de1c5aae",
   "metadata": {},
   "outputs": [],
   "source": [
    "# Remove extra vars\n",
    "dims_to_remove = {'rgb', 'eightbitcolor'}\n",
    "vars_to_drop = [var for var in ds_rf.data_vars\n",
    "                if dims_to_remove & set(ds_rf[var].dims)]\n",
    "ds_rf = ds_rf.drop_vars(vars_to_drop)"
   ]
  },
  {
   "cell_type": "code",
   "execution_count": 20,
   "id": "33493c45-62ee-4778-845b-f0aa7c48bac6",
   "metadata": {},
   "outputs": [],
   "source": [
    "def prep_tile(tile):\n",
    "    \"\"\"Reshape a small tile: stack lat/lon and flatten features.\"\"\"\n",
    "    log.info(f\"Preparing tile with shape {tile.sizes}\")\n",
    "    stacked = tile.stack(samples=(\"lat\", \"lon\")).transpose(\"samples\", \"wavelength\")\n",
    "    X = stacked.data\n",
    "    log.info(f\"  -> stacked shape: {X.shape}, chunks: {X.chunks}\")\n",
    "    X = da.where(da.isnan(X), 0, X)\n",
    "    X = X.rechunk({0: -1, 1: -1})  # ensure fully rechunked before reshape\n",
    "    X_flat = X.reshape((X.shape[0], -1))\n",
    "    log.info(f\"  -> reshaped to: {X_flat.shape}, chunks: {X_flat.chunks}\")\n",
    "    return X_flat, stacked"
   ]
  },
  {
   "cell_type": "code",
   "execution_count": 16,
   "id": "732b1a30-1d75-41e7-9e25-b9ccf61244f6",
   "metadata": {},
   "outputs": [],
   "source": [
    "def train_and_transform_pca(ds_rf, month):\n",
    "    # Subset out training dataset\n",
    "    min_lon_train, max_lat_train, max_lon_train, min_lat_train = bbox #(137.645, -31.715, 153.673, -30.104)\n",
    "    ds_train = ds_rf.sel(lat=slice(min_lat_train, max_lat_train), lon=slice(min_lon_train, max_lon_train), date=month)\n",
    "\n",
    "    log.info(\"Training model on subset...\")\n",
    "    \n",
    "    # 1. Prepare training data\n",
    "    X_train, _ = prep_tile(ds_train['rhos'])\n",
    "    \n",
    "    # 2. Train PCA\n",
    "    pca = PCA(n_components=5)\n",
    "    X_train_pca = pca.fit(X_train)\n",
    "    \n",
    "    # 3. Apply PCA transform to full dataset\n",
    "    da_raw = ds_rf.to_array().transpose(\"lat\", \"lon\", \"variable\",'wavelength')  # assumes single 'rhos' variable\n",
    "    da_pca = pca.transform(da_raw)\n",
    "    da_pca = da_pca.squeeze(axis=3)\n",
    "    \n",
    "    # 4. Wrap result into xarray DataArray with correct dims/coords\n",
    "    ds_pca = ds_rf.copy()\n",
    "    ds_pca[\"pca\"] = xr.DataArray(\n",
    "        da_pca,\n",
    "        dims=(\"lat\", \"lon\", \"component\"),\n",
    "        coords={\n",
    "            \"lat\": ds_rf.coords[\"lat\"],\n",
    "            \"lon\": ds_rf.coords[\"lon\"],\n",
    "            \"component\": np.arange(da_pca.shape[-1])\n",
    "        }\n",
    "    )\n",
    "    return ds_pca"
   ]
  },
  {
   "cell_type": "code",
   "execution_count": 9,
   "id": "dcbdbae5-afc8-4c3c-8fd4-7283c91f7c0b",
   "metadata": {},
   "outputs": [],
   "source": [
    "def plot_monthly_value(month, ds_pca):\n",
    "    # Select the dataset and squeeze out the 'date' dimension\n",
    "    ds = ds_pca.sel(date=month)\n",
    "\n",
    "    plt.figure(figsize=(10, 6))\n",
    "    wavelengths = ds_rf['wavelength'].values\n",
    "    for cid, spectrum in enumerate(pca.components_):\n",
    "        plt.plot(wavelengths, spectrum, label=f'Cluster {cid}')\n",
    "    \n",
    "    plt.xlabel('Wavelength (nm)')\n",
    "    plt.ylabel('Reflectance')\n",
    "    plt.title('PCA Reflectance')\n",
    "    plt.legend()\n",
    "    plt.grid(True)\n",
    "    plt.tight_layout()\n",
    "    plt.show()\n",
    "    \n",
    "    band_indices = [0,1,2,3,4]\n",
    "    wavelengths = ds['component'].values[band_indices]\n",
    "    \n",
    "    fig, axes = plt.subplots(2, 3, figsize=(20, 4))\n",
    "    \n",
    "    for i, (idx, wl) in enumerate(zip(band_indices, wavelengths)):\n",
    "        ax = axes[i]\n",
    "        img = vis_pca.isel(component=idx)\n",
    "        img.plot.imshow(ax=ax, cmap='plasma', robust=True, add_colorbar=False)\n",
    "        ax.set_title(f\"Component: {wl}\")\n",
    "        ax.axis('off')\n",
    "    \n",
    "    plt.savefig(f'pace_monthly/pca_month_{month}.png')"
   ]
  },
  {
   "cell_type": "code",
   "execution_count": null,
   "id": "5d981dad-98ff-44c9-a63f-97fd1e0a4d9e",
   "metadata": {},
   "outputs": [
    {
     "name": "stderr",
     "output_type": "stream",
     "text": [
      "2025-08-06 21:40:56,353 - INFO - Training model on subset...\n",
      "2025-08-06 21:40:56,354 - INFO - Preparing tile with shape Frozen({'lat': 329, 'lon': 403, 'wavelength': 122})\n",
      "2025-08-06 21:40:56,402 - INFO -   -> stacked shape: (132587, 122), chunks: ((403, 3224, 3224, 3224, 3224, 3224, 3224, 3224, 3224, 3224, 3224, 3224, 3224, 3224, 3224, 3224, 3224, 3224, 3224, 3224, 3224, 3224, 3224, 3224, 3224, 3224, 3224, 3224, 3224, 3224, 3224, 3224, 3224, 3224, 3224, 3224, 3224, 3224, 3224, 3224, 3224, 1612, 1612), (8, 8, 8, 8, 8, 8, 8, 8, 8, 8, 8, 8, 8, 8, 8, 2))\n",
      "2025-08-06 21:40:56,407 - INFO -   -> reshaped to: (132587, 122), chunks: ((132587,), (122,))\n"
     ]
    }
   ],
   "source": [
    "for i in ds_rf['date'].values:\n",
    "    ds_pca = train_and_transform_pca(ds_rf, i)\n",
    "    plot_monthly_value(i, ds_pca)"
   ]
  }
 ],
 "metadata": {
  "kernelspec": {
   "display_name": "Python 3 (ipykernel)",
   "language": "python",
   "name": "python3"
  },
  "language_info": {
   "codemirror_mode": {
    "name": "ipython",
    "version": 3
   },
   "file_extension": ".py",
   "mimetype": "text/x-python",
   "name": "python",
   "nbconvert_exporter": "python",
   "pygments_lexer": "ipython3",
   "version": "3.11.11"
  }
 },
 "nbformat": 4,
 "nbformat_minor": 5
}
