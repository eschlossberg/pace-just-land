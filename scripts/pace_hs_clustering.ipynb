{
 "cells": [
  {
   "cell_type": "code",
   "execution_count": 1,
   "id": "462f2f31-d279-4639-8568-7796d750abb6",
   "metadata": {
    "scrolled": true
   },
   "outputs": [
    {
     "ename": "UnboundLocalError",
     "evalue": "cannot access local variable 'child' where it is not associated with a value",
     "output_type": "error",
     "traceback": [
      "\u001b[0;31m---------------------------------------------------------------------------\u001b[0m",
      "\u001b[0;31mKeyboardInterrupt\u001b[0m                         Traceback (most recent call last)",
      "File \u001b[0;32m/srv/conda/envs/notebook/lib/python3.11/site-packages/IPython/utils/_process_posix.py:151\u001b[0m, in \u001b[0;36mProcessHandler.system\u001b[0;34m(self, cmd)\u001b[0m\n\u001b[1;32m    150\u001b[0m \u001b[38;5;28;01melse\u001b[39;00m:\n\u001b[0;32m--> 151\u001b[0m     child \u001b[38;5;241m=\u001b[39m \u001b[43mpexpect\u001b[49m\u001b[38;5;241;43m.\u001b[39;49m\u001b[43mspawn\u001b[49m\u001b[43m(\u001b[49m\u001b[38;5;28;43mself\u001b[39;49m\u001b[38;5;241;43m.\u001b[39;49m\u001b[43msh\u001b[49m\u001b[43m,\u001b[49m\u001b[43m \u001b[49m\u001b[43margs\u001b[49m\u001b[38;5;241;43m=\u001b[39;49m\u001b[43m[\u001b[49m\u001b[38;5;124;43m'\u001b[39;49m\u001b[38;5;124;43m-c\u001b[39;49m\u001b[38;5;124;43m'\u001b[39;49m\u001b[43m,\u001b[49m\u001b[43m \u001b[49m\u001b[43mcmd\u001b[49m\u001b[43m]\u001b[49m\u001b[43m)\u001b[49m  \u001b[38;5;66;03m# Vanilla Pexpect\u001b[39;00m\n\u001b[1;32m    152\u001b[0m flush \u001b[38;5;241m=\u001b[39m sys\u001b[38;5;241m.\u001b[39mstdout\u001b[38;5;241m.\u001b[39mflush\n",
      "File \u001b[0;32m/srv/conda/envs/notebook/lib/python3.11/site-packages/pexpect/pty_spawn.py:205\u001b[0m, in \u001b[0;36mspawn.__init__\u001b[0;34m(self, command, args, timeout, maxread, searchwindowsize, logfile, cwd, env, ignore_sighup, echo, preexec_fn, encoding, codec_errors, dimensions, use_poll)\u001b[0m\n\u001b[1;32m    204\u001b[0m \u001b[38;5;28;01melse\u001b[39;00m:\n\u001b[0;32m--> 205\u001b[0m     \u001b[38;5;28;43mself\u001b[39;49m\u001b[38;5;241;43m.\u001b[39;49m\u001b[43m_spawn\u001b[49m\u001b[43m(\u001b[49m\u001b[43mcommand\u001b[49m\u001b[43m,\u001b[49m\u001b[43m \u001b[49m\u001b[43margs\u001b[49m\u001b[43m,\u001b[49m\u001b[43m \u001b[49m\u001b[43mpreexec_fn\u001b[49m\u001b[43m,\u001b[49m\u001b[43m \u001b[49m\u001b[43mdimensions\u001b[49m\u001b[43m)\u001b[49m\n\u001b[1;32m    206\u001b[0m \u001b[38;5;28mself\u001b[39m\u001b[38;5;241m.\u001b[39muse_poll \u001b[38;5;241m=\u001b[39m use_poll\n",
      "File \u001b[0;32m/srv/conda/envs/notebook/lib/python3.11/site-packages/pexpect/pty_spawn.py:303\u001b[0m, in \u001b[0;36mspawn._spawn\u001b[0;34m(self, command, args, preexec_fn, dimensions)\u001b[0m\n\u001b[1;32m    300\u001b[0m     \u001b[38;5;28mself\u001b[39m\u001b[38;5;241m.\u001b[39margs \u001b[38;5;241m=\u001b[39m [a \u001b[38;5;28;01mif\u001b[39;00m \u001b[38;5;28misinstance\u001b[39m(a, \u001b[38;5;28mbytes\u001b[39m) \u001b[38;5;28;01melse\u001b[39;00m a\u001b[38;5;241m.\u001b[39mencode(\u001b[38;5;28mself\u001b[39m\u001b[38;5;241m.\u001b[39mencoding)\n\u001b[1;32m    301\u001b[0m                  \u001b[38;5;28;01mfor\u001b[39;00m a \u001b[38;5;129;01min\u001b[39;00m \u001b[38;5;28mself\u001b[39m\u001b[38;5;241m.\u001b[39margs]\n\u001b[0;32m--> 303\u001b[0m \u001b[38;5;28mself\u001b[39m\u001b[38;5;241m.\u001b[39mptyproc \u001b[38;5;241m=\u001b[39m \u001b[38;5;28;43mself\u001b[39;49m\u001b[38;5;241;43m.\u001b[39;49m\u001b[43m_spawnpty\u001b[49m\u001b[43m(\u001b[49m\u001b[38;5;28;43mself\u001b[39;49m\u001b[38;5;241;43m.\u001b[39;49m\u001b[43margs\u001b[49m\u001b[43m,\u001b[49m\u001b[43m \u001b[49m\u001b[43menv\u001b[49m\u001b[38;5;241;43m=\u001b[39;49m\u001b[38;5;28;43mself\u001b[39;49m\u001b[38;5;241;43m.\u001b[39;49m\u001b[43menv\u001b[49m\u001b[43m,\u001b[49m\n\u001b[1;32m    304\u001b[0m \u001b[43m                             \u001b[49m\u001b[43mcwd\u001b[49m\u001b[38;5;241;43m=\u001b[39;49m\u001b[38;5;28;43mself\u001b[39;49m\u001b[38;5;241;43m.\u001b[39;49m\u001b[43mcwd\u001b[49m\u001b[43m,\u001b[49m\u001b[43m \u001b[49m\u001b[38;5;241;43m*\u001b[39;49m\u001b[38;5;241;43m*\u001b[39;49m\u001b[43mkwargs\u001b[49m\u001b[43m)\u001b[49m\n\u001b[1;32m    306\u001b[0m \u001b[38;5;28mself\u001b[39m\u001b[38;5;241m.\u001b[39mpid \u001b[38;5;241m=\u001b[39m \u001b[38;5;28mself\u001b[39m\u001b[38;5;241m.\u001b[39mptyproc\u001b[38;5;241m.\u001b[39mpid\n",
      "File \u001b[0;32m/srv/conda/envs/notebook/lib/python3.11/site-packages/pexpect/pty_spawn.py:315\u001b[0m, in \u001b[0;36mspawn._spawnpty\u001b[0;34m(self, args, **kwargs)\u001b[0m\n\u001b[1;32m    314\u001b[0m \u001b[38;5;250m\u001b[39m\u001b[38;5;124;03m'''Spawn a pty and return an instance of PtyProcess.'''\u001b[39;00m\n\u001b[0;32m--> 315\u001b[0m \u001b[38;5;28;01mreturn\u001b[39;00m \u001b[43mptyprocess\u001b[49m\u001b[38;5;241;43m.\u001b[39;49m\u001b[43mPtyProcess\u001b[49m\u001b[38;5;241;43m.\u001b[39;49m\u001b[43mspawn\u001b[49m\u001b[43m(\u001b[49m\u001b[43margs\u001b[49m\u001b[43m,\u001b[49m\u001b[43m \u001b[49m\u001b[38;5;241;43m*\u001b[39;49m\u001b[38;5;241;43m*\u001b[39;49m\u001b[43mkwargs\u001b[49m\u001b[43m)\u001b[49m\n",
      "File \u001b[0;32m/srv/conda/envs/notebook/lib/python3.11/site-packages/ptyprocess/ptyprocess.py:315\u001b[0m, in \u001b[0;36mPtyProcess.spawn\u001b[0;34m(cls, argv, cwd, env, echo, preexec_fn, dimensions, pass_fds)\u001b[0m\n\u001b[1;32m    314\u001b[0m os\u001b[38;5;241m.\u001b[39mclose(exec_err_pipe_write)\n\u001b[0;32m--> 315\u001b[0m exec_err_data \u001b[38;5;241m=\u001b[39m \u001b[43mos\u001b[49m\u001b[38;5;241;43m.\u001b[39;49m\u001b[43mread\u001b[49m\u001b[43m(\u001b[49m\u001b[43mexec_err_pipe_read\u001b[49m\u001b[43m,\u001b[49m\u001b[43m \u001b[49m\u001b[38;5;241;43m4096\u001b[39;49m\u001b[43m)\u001b[49m\n\u001b[1;32m    316\u001b[0m os\u001b[38;5;241m.\u001b[39mclose(exec_err_pipe_read)\n",
      "\u001b[0;31mKeyboardInterrupt\u001b[0m: ",
      "\nDuring handling of the above exception, another exception occurred:\n",
      "\u001b[0;31mUnboundLocalError\u001b[0m                         Traceback (most recent call last)",
      "Cell \u001b[0;32mIn[1], line 1\u001b[0m\n\u001b[0;32m----> 1\u001b[0m \u001b[43mget_ipython\u001b[49m\u001b[43m(\u001b[49m\u001b[43m)\u001b[49m\u001b[38;5;241;43m.\u001b[39;49m\u001b[43msystem\u001b[49m\u001b[43m(\u001b[49m\u001b[38;5;124;43m'\u001b[39;49m\u001b[38;5;124;43mpip install dask-ml\u001b[39;49m\u001b[38;5;124;43m'\u001b[39;49m\u001b[43m)\u001b[49m\n",
      "File \u001b[0;32m/srv/conda/envs/notebook/lib/python3.11/site-packages/ipykernel/zmqshell.py:657\u001b[0m, in \u001b[0;36mZMQInteractiveShell.system_piped\u001b[0;34m(self, cmd)\u001b[0m\n\u001b[1;32m    655\u001b[0m         \u001b[38;5;28mself\u001b[39m\u001b[38;5;241m.\u001b[39muser_ns[\u001b[38;5;124m\"\u001b[39m\u001b[38;5;124m_exit_code\u001b[39m\u001b[38;5;124m\"\u001b[39m] \u001b[38;5;241m=\u001b[39m system(cmd)\n\u001b[1;32m    656\u001b[0m \u001b[38;5;28;01melse\u001b[39;00m:\n\u001b[0;32m--> 657\u001b[0m     \u001b[38;5;28mself\u001b[39m\u001b[38;5;241m.\u001b[39muser_ns[\u001b[38;5;124m\"\u001b[39m\u001b[38;5;124m_exit_code\u001b[39m\u001b[38;5;124m\"\u001b[39m] \u001b[38;5;241m=\u001b[39m \u001b[43msystem\u001b[49m\u001b[43m(\u001b[49m\u001b[38;5;28;43mself\u001b[39;49m\u001b[38;5;241;43m.\u001b[39;49m\u001b[43mvar_expand\u001b[49m\u001b[43m(\u001b[49m\u001b[43mcmd\u001b[49m\u001b[43m,\u001b[49m\u001b[43m \u001b[49m\u001b[43mdepth\u001b[49m\u001b[38;5;241;43m=\u001b[39;49m\u001b[38;5;241;43m1\u001b[39;49m\u001b[43m)\u001b[49m\u001b[43m)\u001b[49m\n",
      "File \u001b[0;32m/srv/conda/envs/notebook/lib/python3.11/site-packages/IPython/utils/_process_posix.py:167\u001b[0m, in \u001b[0;36mProcessHandler.system\u001b[0;34m(self, cmd)\u001b[0m\n\u001b[1;32m    162\u001b[0m         out_size \u001b[38;5;241m=\u001b[39m \u001b[38;5;28mlen\u001b[39m(child\u001b[38;5;241m.\u001b[39mbefore)\n\u001b[1;32m    163\u001b[0m \u001b[38;5;28;01mexcept\u001b[39;00m \u001b[38;5;167;01mKeyboardInterrupt\u001b[39;00m:\n\u001b[1;32m    164\u001b[0m     \u001b[38;5;66;03m# We need to send ^C to the process.  The ascii code for '^C' is 3\u001b[39;00m\n\u001b[1;32m    165\u001b[0m     \u001b[38;5;66;03m# (the character is known as ETX for 'End of Text', see\u001b[39;00m\n\u001b[1;32m    166\u001b[0m     \u001b[38;5;66;03m# curses.ascii.ETX).\u001b[39;00m\n\u001b[0;32m--> 167\u001b[0m     \u001b[43mchild\u001b[49m\u001b[38;5;241m.\u001b[39msendline(\u001b[38;5;28mchr\u001b[39m(\u001b[38;5;241m3\u001b[39m))\n\u001b[1;32m    168\u001b[0m     \u001b[38;5;66;03m# Read and print any more output the program might produce on its\u001b[39;00m\n\u001b[1;32m    169\u001b[0m     \u001b[38;5;66;03m# way out.\u001b[39;00m\n\u001b[1;32m    170\u001b[0m     \u001b[38;5;28;01mtry\u001b[39;00m:\n",
      "\u001b[0;31mUnboundLocalError\u001b[0m: cannot access local variable 'child' where it is not associated with a value"
     ]
    }
   ],
   "source": [
    "!pip install dask-ml"
   ]
  },
  {
   "cell_type": "code",
   "execution_count": null,
   "id": "cc702a48-663c-435b-80fc-ab2f55379d8f",
   "metadata": {},
   "outputs": [],
   "source": [
    "import cartopy.crs as ccrs\n",
    "import cartopy.feature as cfeature\n",
    "import earthaccess\n",
    "import h5netcdf\n",
    "import matplotlib.pyplot as plt\n",
    "import numpy as np\n",
    "import pandas as pd\n",
    "import pyinterp.backends.xarray  # Module that handles the filling of undefined values.\n",
    "import pyinterp.fill\n",
    "import seaborn as sns\n",
    "import xarray as xr\n",
    "import rioxarray as rxr\n",
    "from matplotlib.patches import Rectangle\n",
    "import logging\n",
    "import xarray as xr\n",
    "import dask.array as da\n",
    "from dask_ml.decomposition import PCA\n",
    "from dask_ml.cluster import KMeans\n",
    "from dask.diagnostics import ProgressBar\n",
    "from dask.distributed import Client"
   ]
  },
  {
   "cell_type": "code",
   "execution_count": null,
   "id": "49a00ca1-82f7-439f-aeac-62bf71fbd02e",
   "metadata": {
    "scrolled": true
   },
   "outputs": [],
   "source": [
    "logging.basicConfig(level=logging.INFO, format='%(asctime)s - %(levelname)s - %(message)s')\n",
    "log = logging.getLogger()\n",
    "\n",
    "auth = earthaccess.login()\n",
    "client = Client()"
   ]
  },
  {
   "cell_type": "code",
   "execution_count": null,
   "id": "9484f0d1-d227-4abb-97e4-76a6e14245b6",
   "metadata": {},
   "outputs": [],
   "source": [
    "tspan = (\"2024-06-01\", \"2024-06-30\")\n",
    "figname = \"results/na_prairies\"\n",
    "bbox =  (-97.5, 36.0, -83.0, 45.5)\n",
    "min_lon_train, max_lat_train, max_lon_train, min_lat_train = bbox"
   ]
  },
  {
   "cell_type": "code",
   "execution_count": null,
   "id": "2deec390-4743-4ea6-80cd-60455bfc7f41",
   "metadata": {
    "scrolled": true
   },
   "outputs": [],
   "source": [
    "res_rf = earthaccess.search_data(\n",
    "    short_name=\"PACE_OCI_L3M_SFREFL\",\n",
    "    temporal=tspan,\n",
    "    granule_name='*.MO.*0p1deg*',\n",
    "    bounding_box=bbox\n",
    ")\n",
    "path_rf = earthaccess.open(res_rf)\n",
    "ds_rf = xr.open_mfdataset(path_rf, combine=\"nested\", concat_dim=\"date\")\n",
    "\n",
    "\n",
    "# Cut out AOI\n",
    "min_lon, max_lat, max_lon, min_lat = bbox\n",
    "ds_rf = ds_rf.sel(lat=slice(min_lat, max_lat), lon=slice(min_lon, max_lon))"
   ]
  },
  {
   "cell_type": "code",
   "execution_count": null,
   "id": "2d85b279-3ea1-44c0-934a-3d6f5a4e842e",
   "metadata": {},
   "outputs": [],
   "source": [
    "ds_rf"
   ]
  },
  {
   "cell_type": "code",
   "execution_count": null,
   "id": "2cd63db7-21ce-437d-847c-32c3bc9a1c6b",
   "metadata": {},
   "outputs": [],
   "source": [
    "# 3. Select wavelengths for RGB\n",
    "wavelengths_rgb = [660, 550, 470]  # nm, approximate visible RGB centers\n",
    "wavelength_idx = [int(abs(ds_rf.wavelength - wl).argmin()) for wl in wavelengths_rgb]\n",
    "\n",
    "# 4. Extract RGB bands from rhos\n",
    "rhos = ds_rf['rhos'].isel(date=0, wavelength=wavelength_idx)  # shape: (lat, lon, 3)\n",
    "\n",
    "# 5. Rearrange to (3, lat, lon)\n",
    "rgb = rhos.transpose('wavelength', 'lat', 'lon')\n",
    "\n",
    "# 6. Normalize and convert to 8-bit\n",
    "rgb = rgb.clip(min=0)\n",
    "rgb_uint8 = (rgb / rgb.max() * 255).astype(\"uint8\")\n",
    "\n",
    "# 7. Assign CRS and spatial dims\n",
    "rgb_uint8.rio.set_spatial_dims(x_dim='lon', y_dim='lat', inplace=True)\n",
    "rgb_uint8.rio.write_crs(\"EPSG:4326\", inplace=True)\n",
    "\n",
    "# 8. Save as GeoTIFF\n",
    "rgb_uint8.rio.to_raster(\"pace_rgb_truecolor.tif\")"
   ]
  },
  {
   "cell_type": "code",
   "execution_count": null,
   "id": "361cb700-0501-4c06-abc3-3a84a1146258",
   "metadata": {},
   "outputs": [],
   "source": [
    "# Remove extra vars\n",
    "dims_to_remove = {'rgb', 'eightbitcolor'}\n",
    "vars_to_drop = [var for var in ds_rf.data_vars\n",
    "                if dims_to_remove & set(ds_rf[var].dims)]\n",
    "ds_rf = ds_rf.drop_vars(vars_to_drop)\n",
    "\n",
    "# Set to the desired wavelengths\n",
    "rhos = [550, 704, 804]\n",
    "ds_rf.sel(wavelength=rhos)\n",
    "\n",
    "# Subset out training dataset\n",
    "ds_train = ds_rf.sel(lat=slice(min_lat_train, max_lat_train), lon=slice(min_lon_train, max_lon_train))"
   ]
  },
  {
   "cell_type": "code",
   "execution_count": null,
   "id": "36722e38-837c-4f1b-95ba-1810678dd5fa",
   "metadata": {},
   "outputs": [],
   "source": [
    "def prep_tile(tile):\n",
    "    \"\"\"Reshape a small tile: stack lat/lon and flatten features.\"\"\"\n",
    "    log.info(f\"Preparing tile with shape {tile.sizes}\")\n",
    "    stacked = tile.stack(samples=(\"lat\", \"lon\")).transpose(\"samples\", \"date\", \"wavelength\")\n",
    "    X = stacked.data\n",
    "    log.info(f\"  -> stacked shape: {X.shape}, chunks: {X.chunks}\")\n",
    "    X = da.where(da.isnan(X), 0, X)\n",
    "    X = X.rechunk({0: -1, 1: -1, 2: -1})  # ensure fully rechunked before reshape\n",
    "    X_flat = X.reshape((X.shape[0], -1))\n",
    "    log.info(f\"  -> reshaped to: {X_flat.shape}, chunks: {X_flat.chunks}\")\n",
    "    return X_flat, stacked\n",
    "\n",
    "def predict_on_tiles(ds, model, tile_size=200):\n",
    "    lat_chunks = range(0, ds.dims[\"lat\"], tile_size)\n",
    "    lon_chunks = range(0, ds.dims[\"lon\"], tile_size)\n",
    "\n",
    "    predicted_tiles = []\n",
    "\n",
    "    for lat_start in lat_chunks:\n",
    "        lat_end = min(lat_start + tile_size, ds.dims[\"lat\"])\n",
    "        row_tiles = []\n",
    "        log.info(f\"  Processing lat slice {lat_start}:{lat_end}\")\n",
    "\n",
    "        for lon_start in lon_chunks:\n",
    "            lon_end = min(lon_start + tile_size, ds.dims[\"lon\"])\n",
    "            log.info(f\"  → lon slice {lon_start}:{lon_end}\")\n",
    "            tile = ds[\"rhos\"].isel(lat=slice(lat_start, lat_end), lon=slice(lon_start, lon_end))\n",
    "\n",
    "            if tile.count().values == 0:\n",
    "                log.info(\"Skipping empty tile\")\n",
    "                continue\n",
    "\n",
    "            try:\n",
    "                X_flat, stacked = prep_tile(tile)\n",
    "                X_np = X_flat.compute()\n",
    "                labels = model.predict(X_np)\n",
    "                labels_xr = xr.DataArray(labels, coords={\"samples\": stacked[\"samples\"]}, dims=\"samples\")\n",
    "                labels_unstacked = labels_xr.unstack(\"samples\")\n",
    "                row_tiles.append(labels_unstacked)\n",
    "                log.info(f\"  Finished prediction on tile\")\n",
    "            except Exception as e:\n",
    "                log.warning(f\"  Failed to process tile: {e}\")\n",
    "                continue\n",
    "\n",
    "        if row_tiles:\n",
    "            log.info(f\"Concatenating row tiles along 'lon'\")\n",
    "            predicted_row = xr.concat(row_tiles, dim=\"lon\")\n",
    "            predicted_tiles.append(predicted_row)\n",
    "\n",
    "    if predicted_tiles:\n",
    "        log.info(\"Concatenating all rows into full label map\")\n",
    "        full_labels = xr.concat(predicted_tiles, dim=\"lat\")\n",
    "        return full_labels\n",
    "\n",
    "    log.warning(\"No tiles were processed successfully.\")\n",
    "    return None"
   ]
  },
  {
   "cell_type": "code",
   "execution_count": null,
   "id": "bc602d02-0a1b-4a9f-b1ff-dc60d90c72cb",
   "metadata": {
    "scrolled": true
   },
   "outputs": [],
   "source": [
    "log.info(\"Training model on subset...\")\n",
    "X_train, _ = prep_tile(ds_train['rhos'])\n",
    "X_train_np = X_train.compute()\n",
    "log.info(f\"Training data shape: {X_train_np.shape}\")\n",
    "\n",
    "model = KMeans(n_clusters=10, random_state=42)\n",
    "model.fit(X_train_np)\n",
    "log.info(\"KMeans model fitted.\")"
   ]
  },
  {
   "cell_type": "code",
   "execution_count": null,
   "id": "a47d22b2-50c0-4d53-8cad-65b88e4687a5",
   "metadata": {},
   "outputs": [],
   "source": [
    "log.info(\"Starting tile-wise prediction...\")\n",
    "labels_2d = predict_on_tiles(ds_rf, model, tile_size=200)\n",
    "\n",
    "if labels_2d is not None:\n",
    "    labels_2d.name = \"kmeans_cluster\"\n",
    "    log.info(\"Prediction complete. Plotting result...\")\n",
    "    labels_2d.plot.imshow(cmap='tab10')\n",
    "else:\n",
    "    log.error(\"Clustering failed: no valid output generated.\")\n"
   ]
  },
  {
   "cell_type": "code",
   "execution_count": null,
   "id": "b214790c-de4d-4024-a227-9e4c6b350a36",
   "metadata": {},
   "outputs": [],
   "source": [
    "log.info(\"Writing output to GeoTIFF...\")\n",
    "labels_2d = labels_2d.sortby(\"lat\", ascending=False)\n",
    "labels_2d.rio.set_spatial_dims(x_dim='lon', y_dim='lat')\n",
    "labels_2d.rio.write_crs(\"EPSG:4326\", inplace=True)\n",
    "labels_2d.rio.to_raster(f\"{figname}_kmeans_clusters.tif\")\n",
    "log.info(\"GeoTIFF saved as kmeans_clusters.tif\")"
   ]
  },
  {
   "cell_type": "code",
   "execution_count": null,
   "id": "aa1c1d48-4b0d-4daa-83f4-e9103cbc9221",
   "metadata": {},
   "outputs": [],
   "source": [
    "ds_with_labels = ds_rf.copy()\n",
    "ds_with_labels['cluster'] = labels_2d\n",
    "ds_with_labels"
   ]
  },
  {
   "cell_type": "code",
   "execution_count": null,
   "id": "d21d2af8-77f3-4c33-a7c3-3912798204d7",
   "metadata": {},
   "outputs": [],
   "source": [
    "rhos = ds_with_labels['rhos'].values  # shape: (lat, lon, wavelength)\n",
    "clusters = ds_with_labels['cluster'].values  # shape: (lat, lon)\n",
    "wavelengths = ds_with_labels['wavelength'].values\n",
    "\n",
    "rhos_single = np.squeeze(rhos, axis=0)  # squeeze out the \"date\" or \"time\" dimension\n",
    "\n",
    "rhos_flat = rhos_single.reshape(-1, rhos_single.shape[-1])  \n",
    "\n",
    "clusters_flat = clusters.ravel()\n",
    "\n",
    "\n",
    "cluster_ids = np.unique(clusters_flat[~np.isnan(clusters_flat)]).astype(int)\n",
    "\n",
    "spectra_per_cluster = []\n",
    "\n",
    "for cid in cluster_ids:\n",
    "    mask = clusters_flat == cid                    # shape: (lat*lon,)\n",
    "    cluster_rhos = rhos_flat[mask, :]              # shape: (N, wavelength)\n",
    "    mean_spectrum = cluster_rhos.mean(axis=0)\n",
    "    spectra_per_cluster.append((cid, mean_spectrum))\n"
   ]
  },
  {
   "cell_type": "code",
   "execution_count": null,
   "id": "30e95db0-20bb-4283-99a2-d745c0f2532c",
   "metadata": {},
   "outputs": [],
   "source": [
    "plt.figure(figsize=(10, 6))\n",
    "for cid, spectrum in spectra_per_cluster:\n",
    "    plt.plot(wavelengths, spectrum, label=f'Cluster {cid}')\n",
    "\n",
    "plt.xlabel('Wavelength (nm)')\n",
    "plt.ylabel('Mean Reflectance')\n",
    "plt.title('Mean Reflectance Spectrum per Cluster')\n",
    "plt.legend()\n",
    "plt.grid(True)\n",
    "plt.tight_layout()\n",
    "plt.savefig(f'{figname}_mrs.png')\n",
    "plt.show()"
   ]
  }
 ],
 "metadata": {
  "kernelspec": {
   "display_name": "Python 3 (ipykernel)",
   "language": "python",
   "name": "python3"
  },
  "language_info": {
   "codemirror_mode": {
    "name": "ipython",
    "version": 3
   },
   "file_extension": ".py",
   "mimetype": "text/x-python",
   "name": "python",
   "nbconvert_exporter": "python",
   "pygments_lexer": "ipython3",
   "version": "3.11.11"
  }
 },
 "nbformat": 4,
 "nbformat_minor": 5
}
