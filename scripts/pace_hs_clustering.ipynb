{
 "cells": [
  {
   "cell_type": "code",
   "execution_count": 1,
   "id": "cc702a48-663c-435b-80fc-ab2f55379d8f",
   "metadata": {},
   "outputs": [],
   "source": [
    "import cartopy.crs as ccrs\n",
    "import cartopy.feature as cfeature\n",
    "import earthaccess\n",
    "import h5netcdf\n",
    "import matplotlib.pyplot as plt\n",
    "import numpy as np\n",
    "import pandas as pd\n",
    "import pyinterp.backends.xarray  # Module that handles the filling of undefined values.\n",
    "import pyinterp.fill\n",
    "import seaborn as sns\n",
    "import xarray as xr\n",
    "import rioxarray as rxr\n",
    "from matplotlib.patches import Rectangle\n",
    "import logging\n",
    "import xarray as xr\n",
    "import dask.array as da\n",
    "from dask_ml.decomposition import PCA\n",
    "from dask_ml.cluster import KMeans\n",
    "from dask.diagnostics import ProgressBar\n",
    "from dask.distributed import Client"
   ]
  },
  {
   "cell_type": "code",
   "execution_count": 2,
   "id": "49a00ca1-82f7-439f-aeac-62bf71fbd02e",
   "metadata": {
    "scrolled": true
   },
   "outputs": [
    {
     "name": "stderr",
     "output_type": "stream",
     "text": [
      "2025-08-06 13:17:55,710 - INFO - You're now authenticated with NASA Earthdata Login\n"
     ]
    }
   ],
   "source": [
    "logging.basicConfig(level=logging.INFO, format='%(asctime)s - %(levelname)s - %(message)s')\n",
    "log = logging.getLogger()\n",
    "\n",
    "auth = earthaccess.login()\n",
    "client = Client()"
   ]
  },
  {
   "cell_type": "code",
   "execution_count": 6,
   "id": "2deec390-4743-4ea6-80cd-60455bfc7f41",
   "metadata": {},
   "outputs": [
    {
     "name": "stderr",
     "output_type": "stream",
     "text": [
      "2025-08-06 13:21:05,606 - INFO - Granules found: 2\n",
      "2025-08-06 13:21:18,722 - INFO - Opening 2 granules, approx size: 3.22 GB\n",
      "2025-08-06 13:21:18,723 - INFO - using endpoint: https://obdaac-tea.earthdatacloud.nasa.gov/s3credentials\n"
     ]
    },
    {
     "data": {
      "application/vnd.jupyter.widget-view+json": {
       "model_id": "a7e88409a509409989422b2b431a4b5a",
       "version_major": 2,
       "version_minor": 0
      },
      "text/plain": [
       "QUEUEING TASKS | :   0%|          | 0/2 [00:00<?, ?it/s]"
      ]
     },
     "metadata": {},
     "output_type": "display_data"
    },
    {
     "data": {
      "application/vnd.jupyter.widget-view+json": {
       "model_id": "ce8979bbb5db4e2f8277ee8406757462",
       "version_major": 2,
       "version_minor": 0
      },
      "text/plain": [
       "PROCESSING TASKS | :   0%|          | 0/2 [00:00<?, ?it/s]"
      ]
     },
     "metadata": {},
     "output_type": "display_data"
    },
    {
     "data": {
      "application/vnd.jupyter.widget-view+json": {
       "model_id": "5ade7db9a48942f398ee0c26661849f4",
       "version_major": 2,
       "version_minor": 0
      },
      "text/plain": [
       "COLLECTING RESULTS | :   0%|          | 0/2 [00:00<?, ?it/s]"
      ]
     },
     "metadata": {},
     "output_type": "display_data"
    }
   ],
   "source": [
    "tspan = (\"2025-02-01\", \"2025-03-01\")\n",
    "bbox = (123.084, -29.566, 138.024, -17.050)\n",
    "res_rf = earthaccess.search_data(\n",
    "    short_name=\"PACE_OCI_L3M_SFREFL\",\n",
    "    temporal=tspan,\n",
    "    granule_name='*.MO.*0p1deg*',\n",
    "    bounding_box=bbox\n",
    ")\n",
    "path_rf = earthaccess.open(res_rf)\n",
    "ds_rf = xr.open_mfdataset(path_rf, combine=\"nested\", concat_dim=\"date\")\n",
    "\n",
    "# Remove extra vars\n",
    "dims_to_remove = {'rgb', 'eightbitcolor'}\n",
    "vars_to_drop = [var for var in ds_rf.data_vars\n",
    "                if dims_to_remove & set(ds_rf[var].dims)]\n",
    "ds_rf = ds_rf.drop_vars(vars_to_drop)\n",
    "\n",
    "# Cut out AOI\n",
    "min_lon, max_lat, max_lon, min_lat = bbox\n",
    "ds_rf = ds_rf.sel(lat=slice(min_lat, max_lat), lon=slice(min_lon, max_lon))\n",
    "\n",
    "\n",
    "# Subset out training dataset\n",
    "min_lon_train, max_lat_train, max_lon_train, min_lat_train = (123.983, -27.459, 127.156, -22.571)\n",
    "ds_train = ds_rf.sel(lat=slice(min_lat_train, max_lat_train), lon=slice(min_lon_train, max_lon_train))"
   ]
  },
  {
   "cell_type": "code",
   "execution_count": 8,
   "id": "36722e38-837c-4f1b-95ba-1810678dd5fa",
   "metadata": {},
   "outputs": [],
   "source": [
    "def prep_tile(tile):\n",
    "    \"\"\"Reshape a small tile: stack lat/lon and flatten features.\"\"\"\n",
    "    log.info(f\"Preparing tile with shape {tile.sizes}\")\n",
    "    stacked = tile.stack(samples=(\"lat\", \"lon\")).transpose(\"samples\", \"date\", \"wavelength\")\n",
    "    X = stacked.data\n",
    "    log.info(f\"  -> stacked shape: {X.shape}, chunks: {X.chunks}\")\n",
    "    X = da.where(da.isnan(X), 0, X)\n",
    "    X = X.rechunk({0: -1, 1: -1, 2: -1})  # ensure fully rechunked before reshape\n",
    "    X_flat = X.reshape((X.shape[0], -1))\n",
    "    log.info(f\"  -> reshaped to: {X_flat.shape}, chunks: {X_flat.chunks}\")\n",
    "    return X_flat, stacked\n",
    "\n",
    "def predict_on_tiles(ds, model, tile_size=200):\n",
    "    lat_chunks = range(0, ds.dims[\"lat\"], tile_size)\n",
    "    lon_chunks = range(0, ds.dims[\"lon\"], tile_size)\n",
    "\n",
    "    predicted_tiles = []\n",
    "\n",
    "    for lat_start in lat_chunks:\n",
    "        lat_end = min(lat_start + tile_size, ds.dims[\"lat\"])\n",
    "        row_tiles = []\n",
    "        log.info(f\"  Processing lat slice {lat_start}:{lat_end}\")\n",
    "\n",
    "        for lon_start in lon_chunks:\n",
    "            lon_end = min(lon_start + tile_size, ds.dims[\"lon\"])\n",
    "            log.info(f\"  → lon slice {lon_start}:{lon_end}\")\n",
    "            tile = ds[\"rhos\"].isel(lat=slice(lat_start, lat_end), lon=slice(lon_start, lon_end))\n",
    "\n",
    "            if tile.count().values == 0:\n",
    "                log.info(\"Skipping empty tile\")\n",
    "                continue\n",
    "\n",
    "            try:\n",
    "                X_flat, stacked = prep_tile(tile)\n",
    "                X_np = X_flat.compute()\n",
    "                labels = model.predict(X_np)\n",
    "                labels_xr = xr.DataArray(labels, coords={\"samples\": stacked[\"samples\"]}, dims=\"samples\")\n",
    "                labels_unstacked = labels_xr.unstack(\"samples\")\n",
    "                row_tiles.append(labels_unstacked)\n",
    "                log.info(f\"  Finished prediction on tile\")\n",
    "            except Exception as e:\n",
    "                log.warning(f\"  Failed to process tile: {e}\")\n",
    "                continue\n",
    "\n",
    "        if row_tiles:\n",
    "            log.info(f\"Concatenating row tiles along 'lon'\")\n",
    "            predicted_row = xr.concat(row_tiles, dim=\"lon\")\n",
    "            predicted_tiles.append(predicted_row)\n",
    "\n",
    "    if predicted_tiles:\n",
    "        log.info(\"Concatenating all rows into full label map\")\n",
    "        full_labels = xr.concat(predicted_tiles, dim=\"lat\")\n",
    "        return full_labels\n",
    "\n",
    "    log.warning(\"No tiles were processed successfully.\")\n",
    "    return None"
   ]
  },
  {
   "cell_type": "code",
   "execution_count": 10,
   "id": "bc602d02-0a1b-4a9f-b1ff-dc60d90c72cb",
   "metadata": {
    "scrolled": true
   },
   "outputs": [
    {
     "name": "stderr",
     "output_type": "stream",
     "text": [
      "2025-08-06 13:23:35,496 - INFO - Training model on subset...\n",
      "2025-08-06 13:23:35,498 - INFO - Preparing tile with shape Frozen({'date': 2, 'lat': 49, 'lon': 32, 'wavelength': 122})\n",
      "2025-08-06 13:23:35,504 - INFO -   -> stacked shape: (1568, 2, 122), chunks: ((320, 512, 512, 224), (1, 1), (8, 8, 8, 8, 8, 8, 8, 8, 8, 8, 8, 8, 8, 8, 8, 2))\n",
      "2025-08-06 13:23:35,508 - INFO -   -> reshaped to: (1568, 244), chunks: ((1568,), (244,))\n",
      "2025-08-06 13:23:54,455 - INFO - Training data shape: (1568, 244)\n",
      "2025-08-06 13:23:54,459 - INFO - Starting _check_array\n",
      "2025-08-06 13:23:54,714 - INFO - Finished _check_array in 0:00:00.255826\n",
      "2025-08-06 13:23:54,717 - INFO - Starting init_scalable\n",
      "2025-08-06 13:23:54,717 - INFO - Initializing with k-means||\n",
      "2025-08-06 13:23:55,439 - INFO - Starting init iteration  1/ 6 ,  1 centers\n",
      "2025-08-06 13:23:55,523 - INFO - Finished init iteration  1/ 6 ,  1 centers in 0:00:00.084120\n",
      "2025-08-06 13:23:55,564 - INFO - Starting init iteration  2/ 6 ,  5 centers\n",
      "2025-08-06 13:23:55,641 - INFO - Finished init iteration  2/ 6 ,  5 centers in 0:00:00.076899\n",
      "2025-08-06 13:23:55,684 - INFO - Starting init iteration  3/ 6 ,  7 centers\n",
      "2025-08-06 13:23:55,761 - INFO - Finished init iteration  3/ 6 ,  7 centers in 0:00:00.077510\n",
      "2025-08-06 13:23:55,806 - INFO - Starting init iteration  4/ 6 , 13 centers\n",
      "2025-08-06 13:23:55,971 - INFO - Finished init iteration  4/ 6 , 13 centers in 0:00:00.165655\n",
      "2025-08-06 13:23:56,014 - INFO - Starting init iteration  5/ 6 , 16 centers\n",
      "2025-08-06 13:23:56,096 - INFO - Finished init iteration  5/ 6 , 16 centers in 0:00:00.081644\n",
      "2025-08-06 13:23:56,137 - INFO - Starting init iteration  6/ 6 , 20 centers\n",
      "2025-08-06 13:23:56,223 - INFO - Finished init iteration  6/ 6 , 20 centers in 0:00:00.085962\n",
      "2025-08-06 13:23:56,344 - INFO - Finished init_scalable in 0:00:01.626672\n",
      "2025-08-06 13:23:56,344 - INFO - Starting Lloyd loop  0.\n",
      "2025-08-06 13:23:58,047 - INFO - Shift: 0.0040\n",
      "2025-08-06 13:23:58,048 - INFO - Finished Lloyd loop  0. in 0:00:01.703918\n",
      "2025-08-06 13:23:58,049 - INFO - Starting Lloyd loop  1.\n",
      "2025-08-06 13:23:58,138 - INFO - Shift: 0.0007\n",
      "2025-08-06 13:23:58,139 - INFO - Finished Lloyd loop  1. in 0:00:00.089819\n",
      "2025-08-06 13:23:58,140 - INFO - Starting Lloyd loop  2.\n",
      "2025-08-06 13:23:58,225 - INFO - Shift: 0.0002\n",
      "2025-08-06 13:23:58,226 - INFO - Finished Lloyd loop  2. in 0:00:00.086479\n",
      "2025-08-06 13:23:58,227 - INFO - Starting Lloyd loop  3.\n",
      "2025-08-06 13:23:58,314 - INFO - Shift: 0.0001\n",
      "2025-08-06 13:23:58,315 - INFO - Finished Lloyd loop  3. in 0:00:00.088537\n",
      "2025-08-06 13:23:58,316 - INFO - Starting Lloyd loop  4.\n",
      "2025-08-06 13:23:58,407 - INFO - Shift: 0.0001\n",
      "2025-08-06 13:23:58,409 - INFO - Finished Lloyd loop  4. in 0:00:00.092268\n",
      "2025-08-06 13:23:58,448 - INFO - KMeans model fitted.\n"
     ]
    }
   ],
   "source": [
    "log.info(\"Training model on subset...\")\n",
    "X_train, _ = prep_tile(ds_train['rhos'])\n",
    "X_train_np = X_train.compute()\n",
    "log.info(f\"Training data shape: {X_train_np.shape}\")\n",
    "\n",
    "model = KMeans(n_clusters=5, random_state=42)\n",
    "model.fit(X_train_np)\n",
    "log.info(\"KMeans model fitted.\")"
   ]
  },
  {
   "cell_type": "code",
   "execution_count": 12,
   "id": "a47d22b2-50c0-4d53-8cad-65b88e4687a5",
   "metadata": {},
   "outputs": [
    {
     "name": "stderr",
     "output_type": "stream",
     "text": [
      "2025-08-06 13:24:08,758 - INFO - Starting tile-wise prediction...\n",
      "2025-08-06 13:24:08,760 - INFO -   Processing lat slice 0:126\n",
      "2025-08-06 13:24:08,761 - INFO -   → lon slice 0:149\n",
      "2025-08-06 13:24:51,864 - INFO - Preparing tile with shape Frozen({'date': 2, 'lat': 126, 'lon': 149, 'wavelength': 122})\n",
      "2025-08-06 13:24:51,905 - INFO -   -> stacked shape: (18774, 2, 122), chunks: ((149, 149, 1192, 1192, 1192, 1192, 1192, 1192, 1192, 1192, 1192, 1192, 1192, 1192, 1192, 1192, 894, 894), (1, 1), (8, 8, 8, 8, 8, 8, 8, 8, 8, 8, 8, 8, 8, 8, 8, 2))\n",
      "2025-08-06 13:24:51,911 - INFO -   -> reshaped to: (18774, 244), chunks: ((18774,), (244,))\n",
      "2025-08-06 13:25:58,313 - INFO - Starting _check_array\n",
      "/srv/conda/envs/notebook/lib/python3.11/site-packages/distributed/client.py:3371: UserWarning: Sending large graph of size 17.48 MiB.\n",
      "This may cause some slowdown.\n",
      "Consider loading the data with Dask directly\n",
      " or using futures or delayed objects to embed the data into the graph without repetition.\n",
      "See also https://docs.dask.org/en/stable/best-practices.html#load-data-with-dask for more information.\n",
      "  warnings.warn(\n",
      "2025-08-06 13:25:58,472 - INFO - Finished _check_array in 0:00:00.158431\n",
      "2025-08-06 13:25:58,483 - INFO -   Finished prediction on tile\n",
      "2025-08-06 13:25:58,484 - INFO - Concatenating row tiles along 'lon'\n",
      "2025-08-06 13:25:58,486 - INFO - Concatenating all rows into full label map\n",
      "2025-08-06 13:25:58,489 - INFO - Prediction complete. Plotting result...\n",
      "/srv/conda/envs/notebook/lib/python3.11/site-packages/distributed/client.py:3371: UserWarning: Sending large graph of size 17.49 MiB.\n",
      "This may cause some slowdown.\n",
      "Consider loading the data with Dask directly\n",
      " or using futures or delayed objects to embed the data into the graph without repetition.\n",
      "See also https://docs.dask.org/en/stable/best-practices.html#load-data-with-dask for more information.\n",
      "  warnings.warn(\n"
     ]
    },
    {
     "data": {
      "image/png": "[encoded data removed]",
      "text/plain": [
       "<Figure size 640x480 with 2 Axes>"
      ]
     },
     "metadata": {},
     "output_type": "display_data"
    }
   ],
   "source": [
    "log.info(\"Starting tile-wise prediction...\")\n",
    "labels_2d = predict_on_tiles(ds_rf, model, tile_size=200)\n",
    "\n",
    "if labels_2d is not None:\n",
    "    labels_2d.name = \"kmeans_cluster\"\n",
    "    log.info(\"Prediction complete. Plotting result...\")\n",
    "    labels_2d.plot.imshow()\n",
    "else:\n",
    "    log.error(\"Clustering failed: no valid output generated.\")\n"
   ]
  },
  {
   "cell_type": "code",
   "execution_count": 15,
   "id": "b214790c-de4d-4024-a227-9e4c6b350a36",
   "metadata": {},
   "outputs": [
    {
     "name": "stderr",
     "output_type": "stream",
     "text": [
      "2025-08-06 13:27:43,592 - INFO - Writing output to GeoTIFF...\n",
      "2025-08-06 13:27:43,692 - INFO - GeoTIFF saved as kmeans_clusters.tif\n"
     ]
    },
    {
     "name": "stdout",
     "output_type": "stream",
     "text": [
      "<xarray.DataArray 'kmeans_cluster' (lat: 126, lon: 149)> Size: 75kB\n",
      "dask.array<getitem, shape=(126, 149), dtype=int32, chunksize=(31, 149), chunktype=numpy.ndarray>\n",
      "Coordinates:\n",
      "  * lat          (lat) float32 504B -17.05 -17.15 -17.25 ... -29.45 -29.55\n",
      "  * lon          (lon) float32 596B 123.2 123.3 123.4 ... 137.8 137.9 138.0\n",
      "    spatial_ref  int64 8B 0\n"
     ]
    }
   ],
   "source": [
    "log.info(\"Writing output to GeoTIFF...\")\n",
    "labels_2d = labels_2d.sortby(\"lat\", ascending=False)\n",
    "labels_2d.rio.set_spatial_dims(x_dim='lon', y_dim='lat')\n",
    "labels_2d.rio.write_crs(\"EPSG:4326\", inplace=True)\n",
    "labels_2d.rio.to_raster(\"kmeans_clusters.tif\")\n",
    "log.info(\"GeoTIFF saved as kmeans_clusters.tif\")"
   ]
  }
 ],
 "metadata": {
  "kernelspec": {
   "display_name": "Python 3 (ipykernel)",
   "language": "python",
   "name": "python3"
  },
  "language_info": {
   "codemirror_mode": {
    "name": "ipython",
    "version": 3
   },
   "file_extension": ".py",
   "mimetype": "text/x-python",
   "name": "python",
   "nbconvert_exporter": "python",
   "pygments_lexer": "ipython3",
   "version": "3.11.11"
  }
 },
 "nbformat": 4,
 "nbformat_minor": 5
}
